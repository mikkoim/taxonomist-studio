{
 "cells": [
  {
   "cell_type": "code",
   "execution_count": 1,
   "metadata": {},
   "outputs": [
    {
     "data": {
      "text/plain": [
       "'DarkGreen'"
      ]
     },
     "execution_count": 1,
     "metadata": {},
     "output_type": "execute_result"
    }
   ],
   "source": [
    "import pyautogui as ag\n",
    "import PySimpleGUI as sg\n",
    "from win32gui import GetWindowText, GetForegroundWindow\n",
    "import string\n",
    "\n",
    "sg.theme('DarkGreen')"
   ]
  },
  {
   "attachments": {},
   "cell_type": "markdown",
   "metadata": {},
   "source": [
    "Known issues:\n",
    "\n",
    "- 'Hide all wells' button hides all well buttons but doesn't update window size.\n",
    "\n",
    "    \n",
    "Planned features:\n",
    "\n",
    "TBA"
   ]
  },
  {
   "cell_type": "code",
   "execution_count": 2,
   "metadata": {},
   "outputs": [],
   "source": [
    "def paste_SampleName(name, click_position):\n",
    "    ag.doubleClick(click_position[0],click_position[1])\n",
    "    ag.press('del')\n",
    "    ag.write(name, interval=0.05)\n",
    "\n",
    "button_well_list = [(str(row)+str(col)) for row in string.ascii_uppercase[:8] for col in range(1,13)]"
   ]
  },
  {
   "cell_type": "code",
   "execution_count": 3,
   "metadata": {},
   "outputs": [],
   "source": [
    "layout = [  [sg.Menu([['Options', ['Set click position', 'Hide/Unhide wells']]])],\n",
    "            [sg.T('Automatically insert plate position to SRS')],\n",
    "            [sg.T('Which plate are you processing right now?'), sg.Input(key='-INPUT-', size=(10,2)), sg.B('Ok', key='-OK-')],\n",
    "            [sg.T(size=(35,2), key='-OUTPUT-'), sg.B('Next position', key='-POSITION-')],\n",
    "            [sg.B(f\"A{num}\", visible=False) for num in range(1, 13)],\n",
    "            [sg.B(f\"B{num}\", visible=False) for num in range(1, 13)],\n",
    "            [sg.B(f\"C{num}\", visible=False) for num in range(1, 13)],\n",
    "            [sg.B(f\"D{num}\", visible=False) for num in range(1, 13)],\n",
    "            [sg.B(f\"E{num}\", visible=False) for num in range(1, 13)],\n",
    "            [sg.B(f\"F{num}\", visible=False) for num in range(1, 13)],\n",
    "            [sg.B(f\"G{num}\", visible=False) for num in range(1, 13)],\n",
    "            [sg.B(f\"H{num}\", visible=False) for num in range(1, 13)],\n",
    "            [sg.B('Quit')]]\n",
    "\n",
    "# Create the window\n",
    "window = sg.Window('Plate Position Paster', layout, keep_on_top=True)\n",
    "\n",
    "# Create the options (click position) window\n",
    "CLICK_POSITION=(170,130)\n",
    "CLICK_TEXT = \"Click position\"\n",
    "\n",
    "def open_options_window():\n",
    "    global CLICK_POSITION, CLICK_TEXT\n",
    "    layout_options = [[sg.T(key=\"-MOUSE_POSITION-\"), sg.Input(key=\"-CLICK_POSITION-\")], \n",
    "                      [sg.T(size=(50,2)), sg.B(\"Set click position in form <x,y>\")]]\n",
    "    window = sg.Window(\"Second Window\", layout_options, modal=True, keep_on_top=True)\n",
    "    while True:\n",
    "        event, values = window.read(timeout=10)\n",
    "        if event == \"Exit\" or event == sg.WIN_CLOSED:\n",
    "            break\n",
    "        # Sets the click position \n",
    "        if event == \"Set click position in form <x,y>\":\n",
    "            try: # Check validity of input\n",
    "                position_text = values[\"-CLICK_POSITION-\"].split(\",\")\n",
    "                CLICK_POSITION = (int(position_text[0]), int(position_text[1]))\n",
    "            except ValueError:\n",
    "                CLICK_POSITION = (170,130)\n",
    "                CLICK_TEXT = \"Invalid click position\"\n",
    "\n",
    "            if (len(position_text) != 2):\n",
    "                CLICK_TEXT = \"Invalid click position\"\n",
    "            else:\n",
    "                CLICK_TEXT = \"Click position\"\n",
    "        \n",
    "        # Update mouse position information\n",
    "        pos = ag.position()\n",
    "        window[\"-MOUSE_POSITION-\"].update(f\"Mouse: {pos.x},{pos.y} | {CLICK_TEXT}: {CLICK_POSITION[0], CLICK_POSITION[1]}\")\n",
    "        \n",
    "    window.close()\n",
    "\n",
    "toggle = True\n",
    "CURRENT_WELL = 0\n",
    "# Display and interact with the Window using an Event Loop\n",
    "while True:\n",
    "    event, values = window.read(timeout=10)\n",
    "    # See if user wants to quit or window was closed\n",
    "    if event == sg.WINDOW_CLOSED or event == 'Quit':\n",
    "        break\n",
    "    # Set options\n",
    "    if event == 'Set click position':\n",
    "        open_options_window()\n",
    "    if event == 'Hide/Unhide wells':\n",
    "        for button in button_well_list:\n",
    "            window[button].update(visible=toggle)\n",
    "        toggle = not toggle\n",
    "\n",
    "    # Paste plate that is being processed and selected well to Sample Name in SRS\n",
    "    if event in button_well_list:\n",
    "        ag.click(1000,15)\n",
    "        if GetWindowText(GetForegroundWindow()) == 'SRS':\n",
    "            paste_SampleName(values['-INPUT-']+'_'+event, CLICK_POSITION)\n",
    "            window['-OUTPUT-'].update('Pasted ' + values['-INPUT-']+'_'+event)\n",
    "            CURRENT_WELL = button_well_list.index(event) +1\n",
    "        else:\n",
    "            window['-OUTPUT-'].update('SRS window could not be selected')\n",
    "    if event == '-POSITION-':\n",
    "        ag.click(1000,15)\n",
    "        if GetWindowText(GetForegroundWindow()) == 'SRS':\n",
    "            if CURRENT_WELL < len(button_well_list):\n",
    "                paste_SampleName(values['-INPUT-']+'_'+button_well_list[CURRENT_WELL], CLICK_POSITION)\n",
    "                window['-OUTPUT-'].update('Pasted ' + values['-INPUT-']+'_'+button_well_list[CURRENT_WELL])\n",
    "                CURRENT_WELL += 1\n",
    "            else:\n",
    "                window['-OUTPUT-'].update('Pasted all wells. Starting from A1.')\n",
    "                CURRENT_WELL = 0\n",
    "        else:\n",
    "            window['-OUTPUT-'].update('SRS window could not be selected')\n",
    "\n",
    "    # Output a message to the window\n",
    "    if event == '-OK-':\n",
    "        if values['-INPUT-'] == '':\n",
    "            window['-OUTPUT-'].update('No name provided')\n",
    "        else:\n",
    "            window['-OUTPUT-'].update('Processing plate ' + values['-INPUT-'] + \":\")\n",
    "\n",
    "\n",
    "# Finish up by removing from the screen\n",
    "window.close()"
   ]
  }
 ],
 "metadata": {
  "kernelspec": {
   "display_name": "Python 3",
   "language": "python",
   "name": "python3"
  },
  "language_info": {
   "codemirror_mode": {
    "name": "ipython",
    "version": 3
   },
   "file_extension": ".py",
   "mimetype": "text/x-python",
   "name": "python",
   "nbconvert_exporter": "python",
   "pygments_lexer": "ipython3",
   "version": "3.11.0"
  },
  "orig_nbformat": 4,
  "vscode": {
   "interpreter": {
    "hash": "61d06bf3389b32e53c3f94b9d9faed59379c416c87c8e407f460bf2e0c37f7f7"
   }
  }
 },
 "nbformat": 4,
 "nbformat_minor": 2
}
